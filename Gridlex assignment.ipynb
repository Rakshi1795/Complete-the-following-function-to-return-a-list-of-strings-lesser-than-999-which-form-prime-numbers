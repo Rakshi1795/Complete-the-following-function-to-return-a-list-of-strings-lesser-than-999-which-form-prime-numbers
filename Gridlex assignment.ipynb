{
 "cells": [
  {
   "cell_type": "markdown",
   "id": "05f1f443",
   "metadata": {},
   "source": [
    "1. Complete the following function to return the letter that is appearing most number of times consecutively\n",
    "For example, the \"4\" is repeated most number of times consecutively in \"3344443331211223344\". Please note that \"3\" has appeared in the string for 7 times and \"4\" only 6 times but the answer is 4 because its appearing the most number of times consecutively."
   ]
  },
  {
   "cell_type": "code",
   "execution_count": 1,
   "id": "7a08c800",
   "metadata": {},
   "outputs": [
    {
     "name": "stdout",
     "output_type": "stream",
     "text": [
      "4\n"
     ]
    }
   ],
   "source": [
    "def max_consecutive_char(str):\n",
    "\n",
    "\tl = len(str)\n",
    "\tcount = 0\n",
    "\n",
    "\t\n",
    "\tres = str[0]\n",
    "\tfor i in range(l):\n",
    "\t\t\n",
    "\t\tcur_count = 1\n",
    "\t\tfor j in range(i + 1, l):\n",
    "\t\n",
    "\t\t\tif (str[i] != str[j]):\n",
    "\t\t\t\tbreak\n",
    "\t\t\tcur_count += 1\n",
    "\n",
    "\t\t\n",
    "\t\tif cur_count > count :\n",
    "\t\t\tcount = cur_count\n",
    "\t\t\tres = str[i]\n",
    "\treturn res\n",
    "\n",
    "\n",
    "if __name__ == \"__main__\":\n",
    "\n",
    "\tstr = \"334444333121122344\"\n",
    "\tprint(max_consecutive_char(str))"
   ]
  },
  {
   "cell_type": "markdown",
   "id": "bf3c4d88",
   "metadata": {},
   "source": [
    "2. Complete the following function to return a list of strings lesser than 999 which form prime numbers from a given string of numbers.\n",
    "For example if the given string is “23167”. All the prime numbers less than or equal to 999 in the string are 2,3,23,31,7,167. So, your function must return [2,3,23,31,7,67,167]. Although 23167 is a prime number we can ignore it because it is greater than 999.\n",
    "Output: should be list of integers"
   ]
  },
  {
   "cell_type": "code",
   "execution_count": 2,
   "id": "d92b21d7",
   "metadata": {},
   "outputs": [
    {
     "name": "stdout",
     "output_type": "stream",
     "text": [
      "Enter the string: 23167\n",
      "[23]\n"
     ]
    }
   ],
   "source": [
    "import math\n",
    "def IsPrime(n):\n",
    "    n = int(n)\n",
    "    if n < 2:\n",
    "        return False\n",
    "    m = int(math.sqrt(n))\n",
    "    for i in range(2,m+1):\n",
    "        if n % i == 0:\n",
    "            return False\n",
    "        return True\n",
    "s = input(\"Enter the string: \")\n",
    "def Solutions(s):\n",
    "    listPrime = []\n",
    "    for i in range(len(s)):\n",
    "        for j in range(i,len(s)):\n",
    "            number = s[i:j+1]\n",
    "            if len(number) <= 3 and IsPrime(number):\n",
    "                listPrime.append(int(number))\n",
    "                return listPrime\n",
    "print(Solutions(s))\n",
    "   "
   ]
  },
  {
   "cell_type": "code",
   "execution_count": 3,
   "id": "9a8590b5",
   "metadata": {},
   "outputs": [
    {
     "name": "stdout",
     "output_type": "stream",
     "text": [
      "Enter string of digits:23167\n",
      "2 3 7 23 31 67 167 \n"
     ]
    }
   ],
   "source": [
    "def is_prime(v):\n",
    "    if v < 4:\n",
    "        return v > 1\n",
    "    if not v % 2:\n",
    "        return False\n",
    "    top = 1 + int(v ** 0.5)\n",
    "    for x in range(3, top, 2):\n",
    "        if not v % x:\n",
    "            return False\n",
    "    return True\n",
    "\n",
    "\n",
    "s = input(\"Enter string of digits:\")\n",
    "nlist = []\n",
    "z = len(s) + 1\n",
    "for x in range(z):\n",
    "    for y in range(x + 1, z):\n",
    "        subs = s [x:y]\n",
    "        nlist.append(int(subs))\n",
    "for n in sorted(nlist):\n",
    "    if n > 999:\n",
    "        break\n",
    "    if is_prime(n):\n",
    "        print(n, end= \" \")\n",
    "print()"
   ]
  },
  {
   "cell_type": "code",
   "execution_count": null,
   "id": "25418f7a",
   "metadata": {},
   "outputs": [],
   "source": [
    "PROBLEM STATEMENT :\n",
    "Here you will be solving a problem related to KYC.\n",
    "You will be designing a system which can take the input as a PAN card image and extract\n",
    "relevant details eg. NAME, FATHER”S NAME, DOB and PAN No.\n",
    "INPUT : Indian PAN Card image\n",
    "OUTPUT : NAME, FATHER”S NAME, DOB and PAN No"
   ]
  },
  {
   "cell_type": "code",
   "execution_count": null,
   "id": "2a276c4c",
   "metadata": {},
   "outputs": [],
   "source": []
  }
 ],
 "metadata": {
  "kernelspec": {
   "display_name": "Python 3 (ipykernel)",
   "language": "python",
   "name": "python3"
  },
  "language_info": {
   "codemirror_mode": {
    "name": "ipython",
    "version": 3
   },
   "file_extension": ".py",
   "mimetype": "text/x-python",
   "name": "python",
   "nbconvert_exporter": "python",
   "pygments_lexer": "ipython3",
   "version": "3.9.12"
  }
 },
 "nbformat": 4,
 "nbformat_minor": 5
}
